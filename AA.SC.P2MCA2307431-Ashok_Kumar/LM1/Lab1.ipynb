{
  "nbformat": 4,
  "nbformat_minor": 0,
  "metadata": {
    "colab": {
      "private_outputs": true,
      "provenance": [],
      "authorship_tag": "ABX9TyNIFma/S3qO6PiWDz+bP9Vm",
      "include_colab_link": true
    },
    "kernelspec": {
      "name": "python3",
      "display_name": "Python 3"
    },
    "language_info": {
      "name": "python"
    }
  },
  "cells": [
    {
      "cell_type": "markdown",
      "metadata": {
        "id": "view-in-github",
        "colab_type": "text"
      },
      "source": [
        "<a href=\"https://colab.research.google.com/github/ashok2216-A/University_Lab/blob/main/AA.SC.P2MCA2307431-Ashok_Kumar/LM1/Lab1.ipynb\" target=\"_parent\"><img src=\"https://colab.research.google.com/assets/colab-badge.svg\" alt=\"Open In Colab\"/></a>"
      ]
    },
    {
      "cell_type": "code",
      "execution_count": null,
      "metadata": {
        "id": "uWAAWEpTWfKZ"
      },
      "outputs": [],
      "source": [
        "from google.colab import drive\n",
        "drive.mount('/content/my_drive')"
      ]
    },
    {
      "cell_type": "code",
      "source": [
        "%cd /content/my_drive/MyDrive/AA.SC.P2MCA2307431-Ashok_Kumar\n",
        "!mkdir 'LM1'\n",
        "!mv /content/my_drive/MyDrive/Colab_Notebooks/Lab1.ipynb /content/my_drive/MyDrive/AA.SC.P2MCA2307431-Ashok_Kumar/LM1\n",
        "%cd /content/my_drive/MyDrive/AA.SC.P2MCA2307431-Ashok_Kumar/LM1\n",
        "!pwd"
      ],
      "metadata": {
        "id": "EqpmLMvHZ4K3"
      },
      "execution_count": null,
      "outputs": []
    },
    {
      "cell_type": "code",
      "source": [],
      "metadata": {
        "id": "UunHqWu5gch1"
      },
      "execution_count": null,
      "outputs": []
    },
    {
      "cell_type": "code",
      "source": [
        "“Natural language processing makes it possible for computers\n",
        "to understand the human language. In natural language\n",
        "processing, human language is separated into fragments so that\n",
        "the grammatical structure of sentences and the meaning of words\n",
        "can be analysed and understood in context. This helps computers\n",
        "read and understand spoken or written text in the same way as\n",
        "humans. I am studying Natural Language Processing at Amrita\n",
        "University.”\n"
      ],
      "metadata": {
        "id": "utLOVlXPaCCF"
      },
      "execution_count": null,
      "outputs": []
    }
  ]
}